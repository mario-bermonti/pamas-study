{
 "cells": [
  {
   "cell_type": "code",
   "execution_count": 26,
   "metadata": {},
   "outputs": [],
   "source": [
    "from itertools import permutations\n",
    "import random\n",
    "import pandas as pd\n",
    "\n",
    "random.seed(1)"
   ]
  },
  {
   "cell_type": "markdown",
   "metadata": {},
   "source": [
    "Define list of measures to counterbalance"
   ]
  },
  {
   "cell_type": "code",
   "execution_count": 27,
   "metadata": {},
   "outputs": [],
   "source": [
    "measures = [\n",
    "    'tablet - dsf',\n",
    "    'tablet - dsb',\n",
    "    'pc - dsf',\n",
    "    'pc - dsb',\n",
    "]"
   ]
  },
  {
   "cell_type": "markdown",
   "metadata": {},
   "source": [
    "Basic combinations for counterbalancing measures"
   ]
  },
  {
   "cell_type": "code",
   "execution_count": 28,
   "metadata": {},
   "outputs": [
    {
     "data": {
      "text/plain": [
       "24"
      ]
     },
     "execution_count": 28,
     "metadata": {},
     "output_type": "execute_result"
    }
   ],
   "source": [
    "basic_combinations = list(permutations(measures))\n",
    "len(basic_combinations)"
   ]
  },
  {
   "cell_type": "markdown",
   "metadata": {},
   "source": [
    "Duplicate basic combinations to get 48 sequences"
   ]
  },
  {
   "cell_type": "code",
   "execution_count": 29,
   "metadata": {},
   "outputs": [],
   "source": [
    "combi1 = list(basic_combinations)"
   ]
  },
  {
   "cell_type": "markdown",
   "metadata": {},
   "source": [
    "Merge combinations to get 50 sequences"
   ]
  },
  {
   "cell_type": "markdown",
   "metadata": {},
   "source": [
    "Duplicate the original sequences 1 to get 48 sequences"
   ]
  },
  {
   "cell_type": "code",
   "execution_count": 30,
   "metadata": {},
   "outputs": [
    {
     "data": {
      "text/plain": [
       "48"
      ]
     },
     "execution_count": 30,
     "metadata": {},
     "output_type": "execute_result"
    }
   ],
   "source": [
    "counterbalancing = combi1 + combi1\n",
    "len(counterbalancing)"
   ]
  },
  {
   "cell_type": "markdown",
   "metadata": {},
   "source": [
    "Select 2 random sequences to get 50 sequences needed"
   ]
  },
  {
   "cell_type": "code",
   "execution_count": 31,
   "metadata": {},
   "outputs": [
    {
     "data": {
      "text/plain": [
       "50"
      ]
     },
     "execution_count": 31,
     "metadata": {},
     "output_type": "execute_result"
    }
   ],
   "source": [
    "additional_sequences = random.sample(combi1, 2)\n",
    "counterbalancing.extend(additional_sequences)\n",
    "len(counterbalancing)"
   ]
  },
  {
   "cell_type": "markdown",
   "metadata": {},
   "source": [
    "Inspect counterbalanced sequences"
   ]
  },
  {
   "cell_type": "code",
   "execution_count": 32,
   "metadata": {},
   "outputs": [
    {
     "data": {
      "text/plain": [
       "[('tablet - dsf', 'tablet - dsb', 'pc - dsf', 'pc - dsb'),\n",
       " ('tablet - dsf', 'tablet - dsb', 'pc - dsb', 'pc - dsf'),\n",
       " ('tablet - dsf', 'pc - dsf', 'tablet - dsb', 'pc - dsb'),\n",
       " ('tablet - dsf', 'pc - dsf', 'pc - dsb', 'tablet - dsb'),\n",
       " ('tablet - dsf', 'pc - dsb', 'tablet - dsb', 'pc - dsf'),\n",
       " ('tablet - dsf', 'pc - dsb', 'pc - dsf', 'tablet - dsb'),\n",
       " ('tablet - dsb', 'tablet - dsf', 'pc - dsf', 'pc - dsb'),\n",
       " ('tablet - dsb', 'tablet - dsf', 'pc - dsb', 'pc - dsf'),\n",
       " ('tablet - dsb', 'pc - dsf', 'tablet - dsf', 'pc - dsb'),\n",
       " ('tablet - dsb', 'pc - dsf', 'pc - dsb', 'tablet - dsf'),\n",
       " ('tablet - dsb', 'pc - dsb', 'tablet - dsf', 'pc - dsf'),\n",
       " ('tablet - dsb', 'pc - dsb', 'pc - dsf', 'tablet - dsf'),\n",
       " ('pc - dsf', 'tablet - dsf', 'tablet - dsb', 'pc - dsb'),\n",
       " ('pc - dsf', 'tablet - dsf', 'pc - dsb', 'tablet - dsb'),\n",
       " ('pc - dsf', 'tablet - dsb', 'tablet - dsf', 'pc - dsb'),\n",
       " ('pc - dsf', 'tablet - dsb', 'pc - dsb', 'tablet - dsf'),\n",
       " ('pc - dsf', 'pc - dsb', 'tablet - dsf', 'tablet - dsb'),\n",
       " ('pc - dsf', 'pc - dsb', 'tablet - dsb', 'tablet - dsf'),\n",
       " ('pc - dsb', 'tablet - dsf', 'tablet - dsb', 'pc - dsf'),\n",
       " ('pc - dsb', 'tablet - dsf', 'pc - dsf', 'tablet - dsb'),\n",
       " ('pc - dsb', 'tablet - dsb', 'tablet - dsf', 'pc - dsf'),\n",
       " ('pc - dsb', 'tablet - dsb', 'pc - dsf', 'tablet - dsf'),\n",
       " ('pc - dsb', 'pc - dsf', 'tablet - dsf', 'tablet - dsb'),\n",
       " ('pc - dsb', 'pc - dsf', 'tablet - dsb', 'tablet - dsf'),\n",
       " ('tablet - dsf', 'tablet - dsb', 'pc - dsf', 'pc - dsb'),\n",
       " ('tablet - dsf', 'tablet - dsb', 'pc - dsb', 'pc - dsf'),\n",
       " ('tablet - dsf', 'pc - dsf', 'tablet - dsb', 'pc - dsb'),\n",
       " ('tablet - dsf', 'pc - dsf', 'pc - dsb', 'tablet - dsb'),\n",
       " ('tablet - dsf', 'pc - dsb', 'tablet - dsb', 'pc - dsf'),\n",
       " ('tablet - dsf', 'pc - dsb', 'pc - dsf', 'tablet - dsb'),\n",
       " ('tablet - dsb', 'tablet - dsf', 'pc - dsf', 'pc - dsb'),\n",
       " ('tablet - dsb', 'tablet - dsf', 'pc - dsb', 'pc - dsf'),\n",
       " ('tablet - dsb', 'pc - dsf', 'tablet - dsf', 'pc - dsb'),\n",
       " ('tablet - dsb', 'pc - dsf', 'pc - dsb', 'tablet - dsf'),\n",
       " ('tablet - dsb', 'pc - dsb', 'tablet - dsf', 'pc - dsf'),\n",
       " ('tablet - dsb', 'pc - dsb', 'pc - dsf', 'tablet - dsf'),\n",
       " ('pc - dsf', 'tablet - dsf', 'tablet - dsb', 'pc - dsb'),\n",
       " ('pc - dsf', 'tablet - dsf', 'pc - dsb', 'tablet - dsb'),\n",
       " ('pc - dsf', 'tablet - dsb', 'tablet - dsf', 'pc - dsb'),\n",
       " ('pc - dsf', 'tablet - dsb', 'pc - dsb', 'tablet - dsf'),\n",
       " ('pc - dsf', 'pc - dsb', 'tablet - dsf', 'tablet - dsb'),\n",
       " ('pc - dsf', 'pc - dsb', 'tablet - dsb', 'tablet - dsf'),\n",
       " ('pc - dsb', 'tablet - dsf', 'tablet - dsb', 'pc - dsf'),\n",
       " ('pc - dsb', 'tablet - dsf', 'pc - dsf', 'tablet - dsb'),\n",
       " ('pc - dsb', 'tablet - dsb', 'tablet - dsf', 'pc - dsf'),\n",
       " ('pc - dsb', 'tablet - dsb', 'pc - dsf', 'tablet - dsf'),\n",
       " ('pc - dsb', 'pc - dsf', 'tablet - dsf', 'tablet - dsb'),\n",
       " ('pc - dsb', 'pc - dsf', 'tablet - dsb', 'tablet - dsf'),\n",
       " ('tablet - dsf', 'pc - dsb', 'tablet - dsb', 'pc - dsf'),\n",
       " ('pc - dsb', 'tablet - dsf', 'tablet - dsb', 'pc - dsf')]"
      ]
     },
     "execution_count": 32,
     "metadata": {},
     "output_type": "execute_result"
    }
   ],
   "source": [
    "counterbalancing"
   ]
  },
  {
   "cell_type": "markdown",
   "metadata": {},
   "source": [
    "Convert sequences to df to improve formatting"
   ]
  },
  {
   "cell_type": "code",
   "execution_count": 33,
   "metadata": {},
   "outputs": [
    {
     "data": {
      "text/html": [
       "<div>\n",
       "<style scoped>\n",
       "    .dataframe tbody tr th:only-of-type {\n",
       "        vertical-align: middle;\n",
       "    }\n",
       "\n",
       "    .dataframe tbody tr th {\n",
       "        vertical-align: top;\n",
       "    }\n",
       "\n",
       "    .dataframe thead th {\n",
       "        text-align: right;\n",
       "    }\n",
       "</style>\n",
       "<table border=\"1\" class=\"dataframe\">\n",
       "  <thead>\n",
       "    <tr style=\"text-align: right;\">\n",
       "      <th></th>\n",
       "      <th>measure 1</th>\n",
       "      <th>measure 2</th>\n",
       "      <th>measure 3</th>\n",
       "      <th>measure 4</th>\n",
       "    </tr>\n",
       "  </thead>\n",
       "  <tbody>\n",
       "    <tr>\n",
       "      <th>0</th>\n",
       "      <td>tablet - dsf</td>\n",
       "      <td>tablet - dsb</td>\n",
       "      <td>pc - dsf</td>\n",
       "      <td>pc - dsb</td>\n",
       "    </tr>\n",
       "    <tr>\n",
       "      <th>1</th>\n",
       "      <td>tablet - dsf</td>\n",
       "      <td>tablet - dsb</td>\n",
       "      <td>pc - dsb</td>\n",
       "      <td>pc - dsf</td>\n",
       "    </tr>\n",
       "    <tr>\n",
       "      <th>2</th>\n",
       "      <td>tablet - dsf</td>\n",
       "      <td>pc - dsf</td>\n",
       "      <td>tablet - dsb</td>\n",
       "      <td>pc - dsb</td>\n",
       "    </tr>\n",
       "    <tr>\n",
       "      <th>3</th>\n",
       "      <td>tablet - dsf</td>\n",
       "      <td>pc - dsf</td>\n",
       "      <td>pc - dsb</td>\n",
       "      <td>tablet - dsb</td>\n",
       "    </tr>\n",
       "    <tr>\n",
       "      <th>4</th>\n",
       "      <td>tablet - dsf</td>\n",
       "      <td>pc - dsb</td>\n",
       "      <td>tablet - dsb</td>\n",
       "      <td>pc - dsf</td>\n",
       "    </tr>\n",
       "  </tbody>\n",
       "</table>\n",
       "</div>"
      ],
      "text/plain": [
       "      measure 1     measure 2     measure 3     measure 4\n",
       "0  tablet - dsf  tablet - dsb      pc - dsf      pc - dsb\n",
       "1  tablet - dsf  tablet - dsb      pc - dsb      pc - dsf\n",
       "2  tablet - dsf      pc - dsf  tablet - dsb      pc - dsb\n",
       "3  tablet - dsf      pc - dsf      pc - dsb  tablet - dsb\n",
       "4  tablet - dsf      pc - dsb  tablet - dsb      pc - dsf"
      ]
     },
     "execution_count": 33,
     "metadata": {},
     "output_type": "execute_result"
    }
   ],
   "source": [
    "counterbalancing_df = pd.DataFrame(\n",
    "    counterbalancing,\n",
    "    columns=['measure 1', 'measure 2', 'measure 3', 'measure 4']\n",
    ")\n",
    "counterbalancing_df.head()"
   ]
  },
  {
   "cell_type": "markdown",
   "metadata": {},
   "source": [
    "Save counterbalancing to file"
   ]
  },
  {
   "cell_type": "code",
   "execution_count": 34,
   "metadata": {},
   "outputs": [],
   "source": [
    "counterbalancing_df.to_csv(\n",
    "    '../counterbalancing.csv',\n",
    "    index=False,\n",
    ")"
   ]
  }
 ],
 "metadata": {
  "kernelspec": {
   "display_name": "Python 3",
   "language": "python",
   "name": "python3"
  },
  "language_info": {
   "codemirror_mode": {
    "name": "ipython",
    "version": 3
   },
   "file_extension": ".py",
   "mimetype": "text/x-python",
   "name": "python",
   "nbconvert_exporter": "python",
   "pygments_lexer": "ipython3",
   "version": "3.9.6"
  },
  "orig_nbformat": 4
 },
 "nbformat": 4,
 "nbformat_minor": 2
}
